{
 "cells": [
  {
   "cell_type": "raw",
   "metadata": {},
   "source": [
    "#建立資料庫連線方式"
   ]
  },
  {
   "cell_type": "code",
   "execution_count": null,
   "metadata": {
    "collapsed": true
   },
   "outputs": [],
   "source": [
    "#http://www.runoob.com/python3/python3-mysql.html\n",
    "#此 Cell 一定要執行成功，且設定自己的學號以及密碼，之後才能work!\n",
    "import pymysql as mysql #載入 pymysql\n",
    "import pandas as pd #載入 pandas\n",
    "#pUser = '#你的帳號#';pPasswd='#密碼#';pDb= '#資料庫名稱#'\n",
    "pUser = 'root';pPasswd='1234';pDb='py_106_tmu' #設定對應變數帳號密碼\n",
    "pHost ='localhost'\n",
    "#資料庫連線\n",
    "def DB_connect():\n",
    "    return mysql.connect(host='127.0.0.1',user=pUser,passwd=pPasswd,db=pDb,charset='utf8',use_unicode=True)\n",
    "#取得資料\n",
    "#////取得資料\n",
    "#///  pSQL 取得資料SQL語法\n",
    "#/// pCols 取得欄位\n",
    "def getDataFrame(pSQL,pCols):\n",
    "    result = pd.DataFrame(columns=pCols)\n",
    "    #import mysql.connector\n",
    "    ##連接資料庫\n",
    "    db = DB_connect()\n",
    "    cursor = db.cursor()\n",
    "    try:\n",
    "        # 执行SQL语句\n",
    "        cursor.execute(pSQL)\n",
    "        # 获取所有记录列表\n",
    "        results = cursor.fetchall()\n",
    "        for row in results:\n",
    "            pList =[];\n",
    "            for i in range(len(pCols)):\n",
    "                pList.append(row[i])\n",
    "            result.loc[len(result)] = pList\n",
    "        cursor.close()\n",
    "    except:\n",
    "        print (\"Error: unable to fetch data\")\n",
    "    # 关闭数据库连接\n",
    "    db.close()\n",
    "    return result"
   ]
  }
 ],
 "metadata": {
  "kernelspec": {
   "display_name": "Python 3",
   "language": "python",
   "name": "python3"
  },
  "language_info": {
   "codemirror_mode": {
    "name": "ipython",
    "version": 3
   },
   "file_extension": ".py",
   "mimetype": "text/x-python",
   "name": "python",
   "nbconvert_exporter": "python",
   "pygments_lexer": "ipython3",
   "version": "3.6.1"
  }
 },
 "nbformat": 4,
 "nbformat_minor": 2
}
