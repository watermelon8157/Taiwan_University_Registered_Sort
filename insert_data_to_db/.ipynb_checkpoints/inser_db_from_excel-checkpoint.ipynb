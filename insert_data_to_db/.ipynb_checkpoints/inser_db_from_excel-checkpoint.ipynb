{
 "cells": [
  {
   "cell_type": "code",
   "execution_count": 1,
   "metadata": {
    "collapsed": true
   },
   "outputs": [],
   "source": [
    "#從CSV檔案新增至DB"
   ]
  },
  {
   "cell_type": "code",
   "execution_count": 1,
   "metadata": {
    "collapsed": true
   },
   "outputs": [],
   "source": [
    "#http://www.runoob.com/python3/python3-mysql.html\n",
    "#此 Cell 一定要執行成功，且設定自己的學號以及密碼，之後才能work!\n",
    "import pymysql as mysql #載入 pymysql\n",
    "import pandas as pd #載入 pandas\n",
    "#pUser = '#你的帳號#';pPasswd='#密碼#';pDb= '#資料庫名稱#'\n",
    "pUser = 'root';pPasswd='1234';pDb='py_106_tmu' #設定對應變數帳號密碼\n",
    "pHost ='localhost'\n",
    "#資料庫連線\n",
    "def DB_connect():\n",
    "    return mysql.connect(host='127.0.0.1',user=pUser,passwd=pPasswd,db=pDb,charset='utf8',use_unicode=True)"
   ]
  },
  {
   "cell_type": "code",
   "execution_count": 6,
   "metadata": {},
   "outputs": [
    {
     "ename": "TypeError",
     "evalue": "getDataFrame() missing 1 required positional argument: 'pCols'",
     "output_type": "error",
     "traceback": [
      "\u001b[1;31m---------------------------------------------------------------------------\u001b[0m",
      "\u001b[1;31mTypeError\u001b[0m                                 Traceback (most recent call last)",
      "\u001b[1;32m<ipython-input-6-906322fceee7>\u001b[0m in \u001b[0;36m<module>\u001b[1;34m()\u001b[0m\n\u001b[0;32m      1\u001b[0m \u001b[0msql\u001b[0m \u001b[1;33m=\u001b[0m\u001b[1;34m'SELECT * FROM university_105'\u001b[0m\u001b[1;33m\u001b[0m\u001b[0m\n\u001b[0;32m      2\u001b[0m \u001b[0mcols\u001b[0m \u001b[1;33m=\u001b[0m \u001b[1;33m[\u001b[0m\u001b[1;34m'學年度'\u001b[0m\u001b[1;33m,\u001b[0m\u001b[1;34m'學校類別'\u001b[0m\u001b[1;33m,\u001b[0m\u001b[1;34m'設立別'\u001b[0m\u001b[1;33m,\u001b[0m\u001b[1;34m'學校代碼'\u001b[0m\u001b[1;33m,\u001b[0m\u001b[1;34m'學校名稱'\u001b[0m\u001b[1;33m,\u001b[0m\u001b[1;34m'日間'\u001b[0m\u001b[1;33m,\u001b[0m\u001b[1;34m'學制別'\u001b[0m\u001b[1;33m,\u001b[0m\u001b[1;34m'科系代碼'\u001b[0m\u001b[1;33m,\u001b[0m\u001b[1;34m'科系名稱'\u001b[0m\u001b[1;33m,\u001b[0m\u001b[1;34m'學生總計'\u001b[0m\u001b[1;33m,\u001b[0m\u001b[1;34m'新生註冊率'\u001b[0m\u001b[1;33m,\u001b[0m\u001b[1;34m'一年級人數'\u001b[0m\u001b[1;33m,\u001b[0m\u001b[1;34m'縣市名稱'\u001b[0m\u001b[1;33m,\u001b[0m\u001b[1;34m'體系別'\u001b[0m\u001b[1;33m]\u001b[0m\u001b[1;33m\u001b[0m\u001b[0m\n\u001b[1;32m----> 3\u001b[1;33m \u001b[0maa\u001b[0m \u001b[1;33m=\u001b[0m \u001b[0mgetDataFrame\u001b[0m\u001b[1;33m(\u001b[0m\u001b[0msql\u001b[0m\u001b[1;33m,\u001b[0m\u001b[0mcols\u001b[0m\u001b[1;33m)\u001b[0m\u001b[1;33m\u001b[0m\u001b[0m\n\u001b[0m",
      "\u001b[1;31mTypeError\u001b[0m: getDataFrame() missing 1 required positional argument: 'pCols'"
     ]
    }
   ],
   "source": [
    "sql ='SELECT * FROM university_105'\n",
    "cols = ['學年度','學校類別','設立別','學校代碼','學校名稱','日間','學制別','科系代碼','科系名稱','學生總計','新生註冊率','一年級人數','縣市名稱','體系別']\n",
    "aa = getDataFrame(sql,cols)"
   ]
  },
  {
   "cell_type": "code",
   "execution_count": 4,
   "metadata": {
    "collapsed": true
   },
   "outputs": [],
   "source": [
    "lastError = ''\n",
    "def getDataFrame(self,pSQL,pCols):\n",
    "        result = pd.DataFrame(columns=pCols)\n",
    "        #import mysql.connector\n",
    "        ##連接資料庫\n",
    "        db = None\n",
    "        try:\n",
    "            db = DB_connect()\n",
    "            cursor = db.cursor()\n",
    "            # 执行SQL语句\n",
    "            cursor.execute(pSQL)\n",
    "            # 获取所有记录列表\n",
    "            results = cursor.fetchall()\n",
    "            for row in results:\n",
    "                pList =[];\n",
    "                for i in range(len(pCols)):\n",
    "                    pList.append(row[i])\n",
    "                result.loc[len(result)] = pList\n",
    "            cursor.close()\n",
    "        except:\n",
    "            lastError = '資料庫連線失敗!'\n",
    "        # 关闭数据库连接\n",
    "        if db != None:\n",
    "            db.close()\n",
    "        return result"
   ]
  },
  {
   "cell_type": "code",
   "execution_count": 2,
   "metadata": {},
   "outputs": [
    {
     "name": "stdout",
     "output_type": "stream",
     "text": [
      "查看資料庫版本及也可以檢查連線是否正常\n",
      "Database version : 5.7.20-log \n"
     ]
    }
   ],
   "source": [
    "####補充：連接DB的程式碼####\n",
    "#import mysql.connector\n",
    "#db = mysql.connect(**config)\n",
    "##連接資料庫\n",
    "db = DB_connect()\n",
    "# 使用 cursor() 方法创建一个游标对象 cursor\n",
    "cursor = db.cursor()\n",
    "# 使用 execute()  方法执行 SQL 查询 \n",
    "cursor.execute(\"SELECT VERSION()\")\n",
    "# 使用 fetchone() 方法获取单条数据.\n",
    "data = cursor.fetchone()\n",
    "print('查看資料庫版本及也可以檢查連線是否正常')\n",
    "print (\"Database version : %s \" % data)\n",
    "# 关闭数据库连接\n",
    "db.close()"
   ]
  },
  {
   "cell_type": "code",
   "execution_count": 3,
   "metadata": {
    "collapsed": true
   },
   "outputs": [],
   "source": [
    "excel_file = \"105ENROLL.xlsx\"\n",
    "#載入excel檔案\n",
    "_105ENROLL_0 = pd.read_excel(excel_file,sheetname=0)#105一般公立\n",
    "_105ENROLL_1 = pd.read_excel(excel_file,sheetname=1)#105一般私立\n",
    "_105ENROLL_2 = pd.read_excel(excel_file,sheetname=2)#105技職公立\n",
    "_105ENROLL_3 = pd.read_excel(excel_file,sheetname=3)#105技職私立\n",
    "#將資料匯入SQL\n",
    "for j in [_105ENROLL_0,_105ENROLL_1,_105ENROLL_2,_105ENROLL_3]:\n",
    "    for i in j.values:\n",
    "        insert_DB([str(x) for x in i.tolist()])"
   ]
  },
  {
   "cell_type": "code",
   "execution_count": 185,
   "metadata": {
    "collapsed": true
   },
   "outputs": [],
   "source": [
    "#新增資料\n",
    "def insert_DB(df):\n",
    "    db = DB_connect()\n",
    "    # 使用 cursor() 方法创建一个游标对象 cursor\n",
    "    cursor = db.cursor()\n",
    "    insert_item = tuple(df)\n",
    "    # 使用预处理语句创建表\n",
    "    sql = \"INSERT INTO `university_105` (`academic_year`, `school_class`, `type`,  \\\n",
    "          `school_id`, `school_name`, `day_type`, `student_type`, `department_id`, \\\n",
    "          `department_name`, `student_number`, `student_rr`, `first_grade_number`, \\\n",
    "          `County_name`, `class_type`) VALUES \" + str( tuple(df)) \n",
    "    #print(sql)\n",
    "    try:\n",
    "       # 执行sql语句\n",
    "       cursor.execute(sql)\n",
    "       # 提交到数据库执行\n",
    "       db.commit()\n",
    "    except Exception as ex:\n",
    "        print(ex)\n",
    "        # 如果发生错误则回滚\n",
    "        db.rollback()\n",
    "    # 关闭数据库连接\n",
    "    db.close()"
   ]
  },
  {
   "cell_type": "code",
   "execution_count": null,
   "metadata": {
    "collapsed": true
   },
   "outputs": [],
   "source": []
  }
 ],
 "metadata": {
  "kernelspec": {
   "display_name": "Python 3",
   "language": "python",
   "name": "python3"
  },
  "language_info": {
   "codemirror_mode": {
    "name": "ipython",
    "version": 3
   },
   "file_extension": ".py",
   "mimetype": "text/x-python",
   "name": "python",
   "nbconvert_exporter": "python",
   "pygments_lexer": "ipython3",
   "version": "3.6.1"
  }
 },
 "nbformat": 4,
 "nbformat_minor": 2
}
