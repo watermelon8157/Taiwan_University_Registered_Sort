{
 "cells": [
  {
   "cell_type": "raw",
   "metadata": {},
   "source": [
    "#建立資料庫連線方式"
   ]
  },
  {
   "cell_type": "code",
   "execution_count": 1,
   "metadata": {
    "collapsed": true
   },
   "outputs": [],
   "source": [
    "#http://www.runoob.com/python3/python3-mysql.html\n",
    "#此 Cell 一定要執行成功，且設定自己的學號以及密碼，之後才能work!\n",
    "#import pymysql as mysql #載入 pymysql\n",
    "import pandas as pd #載入 pandas\n",
    "#pUser = '#你的帳號#';pPasswd='#密碼#';pDb= '#資料庫名稱#'\n",
    "pUser = 'root';pPasswd='1234';pDb='py_106_tmu' #設定對應變數帳號密碼\n",
    "pHost ='localhost'"
   ]
  },
  {
   "cell_type": "code",
   "execution_count": 2,
   "metadata": {
    "collapsed": true
   },
   "outputs": [],
   "source": [
    "class DBA(object):\n",
    "    #///pType資料來源\n",
    "    def __init__(self,pType):\n",
    "        self.lastError = '';\n",
    "        self.isFromMySQL = False\n",
    "        self.Data = pd.DataFrame()\n",
    "        self.type = pType\n",
    "        if self.type == '使用MySQL資料庫':\n",
    "            self.isFromMySQL = True\n",
    "            sql ='SELECT * FROM university_105'\n",
    "            cols = ['學年度','學校類別','設立別','學校代碼','學校名稱','日間','學制別','科系代碼','科系名稱','學生總計','新生註冊率','一年級人數','縣市名稱','體系別']\n",
    "            self.Data = self.getDataFrame(sql,cols)\n",
    "        else:\n",
    "            self.Data = pd.read_excel('105ENROLL_ALL.xlsx')\n",
    "     #取得資料\n",
    "    def getData(self):\n",
    "        return self.Data\n",
    "    #取得錯誤訊息\n",
    "    def getLastError(self):\n",
    "        pStr = self.lastError\n",
    "        return pStr\n",
    "    #資料庫連線\n",
    "    def DB_connect(self):\n",
    "        self.lastError = ''\n",
    "        return mysql.connect(host='127.0.0.1',user=pUser,passwd=pPasswd,db=pDb,charset='utf8',use_unicode=True)\n",
    "    #取得資料\n",
    "    #////取得資料\n",
    "    #///  pSQL 取得資料SQL語法\n",
    "    #/// pCols 取得欄位\n",
    "    def getDataFrame(self,pSQL,pCols):\n",
    "        result = pd.DataFrame(columns=pCols)\n",
    "        #import mysql.connector\n",
    "        ##連接資料庫\n",
    "        db = None\n",
    "        try:\n",
    "            db = self.DB_connect()\n",
    "            cursor = db.cursor()\n",
    "            # 执行SQL语句\n",
    "            cursor.execute(pSQL)\n",
    "            # 获取所有记录列表\n",
    "            results = cursor.fetchall()\n",
    "            for row in results:\n",
    "                pList =[];\n",
    "                for i in range(len(pCols)):\n",
    "                    pList.append(row[i])\n",
    "                result.loc[len(result)] = pList\n",
    "            cursor.close()\n",
    "        except:\n",
    "            self.lastError = '資料庫連線失敗!'\n",
    "        # 关闭数据库连接\n",
    "        if db != None:\n",
    "            db.close()\n",
    "        return result"
   ]
  },
  {
   "cell_type": "code",
   "execution_count": null,
   "metadata": {
    "collapsed": true
   },
   "outputs": [],
   "source": []
  }
 ],
 "metadata": {
  "kernelspec": {
   "display_name": "Python 3",
   "language": "python",
   "name": "python3"
  },
  "language_info": {
   "codemirror_mode": {
    "name": "ipython",
    "version": 3
   },
   "file_extension": ".py",
   "mimetype": "text/x-python",
   "name": "python",
   "nbconvert_exporter": "python",
   "pygments_lexer": "ipython3",
   "version": "3.6.1"
  }
 },
 "nbformat": 4,
 "nbformat_minor": 2
}
